{
 "cells": [
  {
   "cell_type": "code",
   "execution_count": 85,
   "metadata": {
    "collapsed": false
   },
   "outputs": [
    {
     "name": "stdout",
     "output_type": "stream",
     "text": [
      "The autoreload extension is already loaded. To reload it, use:\n",
      "  %reload_ext autoreload\n"
     ]
    }
   ],
   "source": [
    "%load_ext autoreload\n",
    "%autoreload 2\n",
    "%matplotlib inline\n",
    "import matplotlib\n",
    "import seaborn as sns\n",
    "matplotlib.rcParams['savefig.dpi'] = 2 * matplotlib.rcParams['savefig.dpi']\n",
    "import matplotlib.pylab as plt\n",
    "import numpy as np\n",
    "from time import time\n",
    "import random\n",
    "from collections import defaultdict, namedtuple\n",
    "import boggle\n",
    "from datetime import datetime\n",
    "board = boggle.Board()"
   ]
  },
  {
   "cell_type": "code",
   "execution_count": 86,
   "metadata": {
    "collapsed": false
   },
   "outputs": [
    {
     "name": "stdout",
     "output_type": "stream",
     "text": [
      "W D T N \n",
      "S M R I \n",
      "Z R O C \n",
      "B I E G \n",
      "Enter word:gore\n",
      "Enter word:cog\n",
      "Enter word:nit\n",
      "Enter word:rice\n",
      "Enter word:more\n",
      "Enter word:mort\n",
      "Enter word:smore\n",
      "Enter word:more\n",
      "Enter word:cor\n",
      "Enter word:cort\n",
      "Enter word:cord\n",
      "Enter word:cord\n",
      "Enter word:corn\n",
      "Enter word:brie\n",
      "Enter word:trio\n",
      "Enter word:moire\n",
      "Enter word:rom\n",
      "Enter word:nice\n",
      "Enter word:nicer\n",
      "Enter word:nicers\n",
      "Enter word:ricer\n",
      "Enter word:ricers\n",
      "Enter word:rice\n",
      "Enter word:trice\n",
      "Enter word:trie\n",
      "Enter word:rib\n",
      "Enter word:ire\n",
      "game over! scoring...\n",
      "\n",
      "your valid words: brie, cog, cor, cord, corn, gore, moire, more, mort, nice, nicer, nit, rib, rice, ricer, ricers, rom, smore, trice, trie, trio\n",
      "\n",
      "your invalid words: cort, nicers\n",
      "\n",
      "your score: 28\n",
      "\n",
      "all valid words: bi, bier, biers, bio, biog, biro, birr, biz, brei, brie, brio, bro, brog, brr, cero, cirri, cit, cog, coin, coir, coirs, coit, coms, cor, corbie, cord, cords, core, corm, corms, corn, corni, corrie, cors, cortin, crit, crog, crore, drice, droger, drogers, droit, eco, ego, er, err, ers, geo, germ, germs, go, goe, goer, goers, goier, gor, gore, gori, gorm, gorms, ice, icer, icers, in, inro, intro, io, ire, it, mo, moc, moe, moer, moers, mog, moi, moire, moit, mor, more, morn, morrice, mors, mort, mortice, morticer, morticers, nice, nicer, nit, nitro, oe, oi, oint, om, oms, or, orb, orc, orcin, ord, ords, ore, orrice, ors, ort, re, rec, recit, recoin, record, records, reg, rego, rei, reo, rib, rice, ricer, ricers, rin, rit, riz, roc, roe, roger, rogers, roin, rom, roms, rore, roric, rorie, rort, smog, smore, sri, ti, tic, tice, tin, tiro, tirr, tirrs, trice, trin, trio, trior, triors, trog\n",
      "\n",
      "total possible points: 222\n"
     ]
    }
   ],
   "source": [
    "board.play()"
   ]
  }
 ],
 "metadata": {
  "kernelspec": {
   "display_name": "Python [Root]",
   "language": "python",
   "name": "Python [Root]"
  },
  "language_info": {
   "codemirror_mode": {
    "name": "ipython",
    "version": 3
   },
   "file_extension": ".py",
   "mimetype": "text/x-python",
   "name": "python",
   "nbconvert_exporter": "python",
   "pygments_lexer": "ipython3",
   "version": "3.5.2"
  }
 },
 "nbformat": 4,
 "nbformat_minor": 4
}

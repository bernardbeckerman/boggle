{
 "cells": [
  {
   "cell_type": "code",
   "execution_count": 1,
   "metadata": {
    "collapsed": false
   },
   "outputs": [
    {
     "name": "stdout",
     "output_type": "stream",
     "text": [
      "O U A H \n",
      "C I K G \n",
      "T D A T \n",
      "O R D Y \n",
      "Enter word:tardy\n",
      "Enter word:gad\n",
      "Enter word:dag\n",
      "Enter word:trod\n",
      "Enter word:rod\n",
      "Enter word:yard\n",
      "Enter word:haiku\n",
      "Enter word:drat\n",
      "Enter word:rat\n",
      "Enter word:tar\n",
      "Enter word:art\n",
      "Enter word:dart\n",
      "Enter word:taddy\n",
      "Enter word:dad\n",
      "Enter word:kid\n",
      "Enter word:kiddy\n",
      "Enter word:add\n",
      "Enter word:ad\n",
      "Enter word:tid\n",
      "Enter word:tiddy\n",
      "Enter word:dit\n",
      "Enter word:kit\n",
      "Enter word:hag\n",
      "Enter word:aid\n",
      "Enter word:gait\n",
      "Enter word:tarot\n",
      "Enter word:ray\n",
      "Enter word:rad\n",
      "Enter word:tart\n",
      "Enter word:gar\n",
      "Enter word:rag\n",
      "Enter word:raga\n",
      "Enter word:yak\n",
      "Enter word:gay\n",
      "Enter word:tray\n",
      "game over! scoring...\n",
      "\n",
      "your valid words: ad, add, aid, art, dad, dag, dart, dit, drat, gad, gait, gar, gay, hag, haiku, kid, kiddy, kit, rad, rag, raga, rat, ray, rod, tar, tardy, tarot, tart, tid, tiddy, trod, yak, yard\n",
      "\n",
      "your invalid words: taddy\n",
      "\n",
      "your score: 37\n",
      "\n",
      "all valid words: ad, add, addict, addio, addy, adit, ado, ag, aga, agar, agha, ah, ai, aia, aid, ait, aka, ar, ard, art, arti, artic, at, auk, ay, cid, cit, cito, coit, cuit, da, dad, dado, dag, dak, dart, day, di, dict, dika, dit, do, dor, dorad, dort, dot, drad, drag, drat, dray, dyad, dyadic, gad, gaddi, gadi, gaid, gait, gar, gart, gat, gau, gay, ha, hag, hagadic, haik, haika, haiku, haka, haku, id, ikat, io, it, ka, kadi, kai, kaid, karo, kart, kat, kay, ki, kid, kiddy, kit, kuia, od, oda, odd, odic, oi, oik, or, ora, orad, ord, ort, otic, ou, ouk, rad, radio, rag, raga, rai, raia, raid, raik, rait, raki, raku, rat, ray, rod, rot, roti, ta, tad, tag, tai, tait, tak, taka, taki, tar, tardo, tardy, taro, tarot, tart, tay, ti, tiar, tic, tid, tiddy, tika, to, tod, today, toddy, tor, tora, trad, traik, trat, tray, trod, ya, yad, yag, yak, yar, yard, yarto, ydrad\n",
      "\n",
      "total possible points: 158\n"
     ]
    }
   ],
   "source": [
    "import boggle\n",
    "board = boggle.Board()\n",
    "board.play()"
   ]
  }
 ],
 "metadata": {
  "kernelspec": {
   "display_name": "Python [Root]",
   "language": "python",
   "name": "Python [Root]"
  },
  "language_info": {
   "codemirror_mode": {
    "name": "ipython",
    "version": 3
   },
   "file_extension": ".py",
   "mimetype": "text/x-python",
   "name": "python",
   "nbconvert_exporter": "python",
   "pygments_lexer": "ipython3",
   "version": "3.5.2"
  }
 },
 "nbformat": 4,
 "nbformat_minor": 4
}
